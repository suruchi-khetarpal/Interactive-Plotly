{
 "cells": [
  {
   "cell_type": "markdown",
   "metadata": {},
   "source": [
    "## <font color='firebrick'> Tidying and Cleaning Messy Data in Python\n",
    "    \n",
    "\n",
    "Sources:\n",
    "\n",
    "    - https://www.jeannicholashould.com/tidy-data-in-python.html\n",
    "    - http://vita.had.co.nz/papers/tidy-data.pdf\n",
    "    - https://pandas.pydata.org/Pandas_Cheat_Sheet.pdf\n",
    "    - https://pandas.pydata.org/docs/reference/api/pandas.melt.html\n",
    "\n",
    "Datasets:\n",
    "\n",
    "\n",
    "    "
   ]
  },
  {
   "cell_type": "code",
   "execution_count": null,
   "metadata": {
    "ExecuteTime": {
     "end_time": "2020-09-22T01:51:26.904854Z",
     "start_time": "2020-09-22T01:51:19.385365Z"
    }
   },
   "outputs": [],
   "source": [
    "import pandas as pd\n",
    "import seaborn as sns"
   ]
  },
  {
   "cell_type": "markdown",
   "metadata": {},
   "source": [
    "## What is tidy data? "
   ]
  },
  {
   "cell_type": "markdown",
   "metadata": {},
   "source": [
    "In order to have our data ready for analysis, we need to make sure that it is tidy. According to Hadley Wickham (http://vita.had.co.nz/papers/tidy-data.pdf), a dataset is\n",
    "messy or tidy depending on how rows, columns and tables are matched up with observations, variables and types.\n",
    "\n",
    "The data is tidy when:\n",
    "\n",
    "- Each variable forms a column and contains values\n",
    "- Each observation forms a row\n",
    "- Each value must have its own cell\n",
    "\n",
    "An example of a messy dataset:\n",
    "\n",
    "|**Name**   |**Treatment A**   |**Treatment B**|\n",
    "|:----------:|:-----------------:|:--------------:|\n",
    "John | - |2\n",
    "Jane | 16 | 11\n",
    "Mary | 3 | 1\n",
    "\n",
    "An example of a tidy dataset:\n",
    "\n",
    "|**Name**   |**Treatment**   |**Result**|\n",
    "|:----------:|:-----------------:|:--------------:|\n",
    "John | a | - \n",
    "Jane | a | 16\n",
    "Mary | a | 3\n",
    "John | b | 2\n",
    "Jane | b | 11\n",
    "Mary | b | 1"
   ]
  },
  {
   "cell_type": "markdown",
   "metadata": {},
   "source": [
    "#### Example 1: Pew Research Center Dataset"
   ]
  },
  {
   "cell_type": "markdown",
   "metadata": {},
   "source": [
    "For this section, we will use the Pew Research Center dataset (`pew-raw.csv`) which explores the relationship between income and religion. \n",
    "\n",
    "We can see that the data is not tidy because the column headers are composed of the possible income values.\n",
    "\n",
    "A tidy version of this dataset is one in which the income values would not be columns headers but rather in an `income` variable. \n",
    "\n",
    "https://pandas.pydata.org/docs/reference/api/pandas.melt.html"
   ]
  },
  {
   "cell_type": "code",
   "execution_count": null,
   "metadata": {
    "ExecuteTime": {
     "end_time": "2020-09-22T01:53:49.609278Z",
     "start_time": "2020-09-22T01:53:49.595642Z"
    }
   },
   "outputs": [],
   "source": [
    "df = pd.read_csv('pew-raw.csv')\n",
    "df"
   ]
  },
  {
   "cell_type": "code",
   "execution_count": null,
   "metadata": {
    "ExecuteTime": {
     "end_time": "2020-09-21T15:07:49.194427Z",
     "start_time": "2020-09-21T15:07:49.190526Z"
    }
   },
   "outputs": [],
   "source": []
  },
  {
   "cell_type": "code",
   "execution_count": null,
   "metadata": {
    "ExecuteTime": {
     "end_time": "2020-09-21T15:07:49.993446Z",
     "start_time": "2020-09-21T15:07:49.978848Z"
    }
   },
   "outputs": [],
   "source": [
    "# id_vars = Column(s) to use as identifier variables.\n",
    "# value_vars = Column(s) to unpivot. If not specified, uses all columns that are not set as id_vars.\n",
    "# var_name = Name to use for the ‘variable’ column. If None it uses ‘variable’. \n",
    "# value_name = Name to use for the ‘value’ column\n"
   ]
  },
  {
   "cell_type": "code",
   "execution_count": null,
   "metadata": {
    "ExecuteTime": {
     "end_time": "2020-09-21T15:07:51.296479Z",
     "start_time": "2020-09-21T15:07:51.283470Z"
    }
   },
   "outputs": [],
   "source": [
    "# value_vars = If not specified, uses all columns that are not set as id_vars.\n",
    "\n"
   ]
  },
  {
   "cell_type": "markdown",
   "metadata": {
    "heading_collapsed": true
   },
   "source": [
    "####  Example 2: Billboard Top 100 Dataset"
   ]
  },
  {
   "cell_type": "markdown",
   "metadata": {
    "hidden": true
   },
   "source": [
    "This dataset represents the weekly rank of songs from the moment they enter the Billboard Top 100 to the subsequent 75 weeks.\n",
    "\n",
    "Problems:\n",
    "\n",
    "- The column headers are composed of values: the week number (x1st.week, x2ndweek, etc.)\n"
   ]
  },
  {
   "cell_type": "code",
   "execution_count": null,
   "metadata": {
    "ExecuteTime": {
     "end_time": "2020-09-21T18:27:20.672431Z",
     "start_time": "2020-09-21T18:27:20.622375Z"
    },
    "hidden": true
   },
   "outputs": [],
   "source": [
    "df = pd.read_csv('billboard.csv')\n",
    "df.sample(2)"
   ]
  },
  {
   "cell_type": "code",
   "execution_count": null,
   "metadata": {
    "ExecuteTime": {
     "end_time": "2020-09-21T18:27:20.984152Z",
     "start_time": "2020-09-21T18:27:20.957835Z"
    },
    "hidden": true
   },
   "outputs": [],
   "source": []
  },
  {
   "cell_type": "code",
   "execution_count": null,
   "metadata": {
    "ExecuteTime": {
     "end_time": "2020-09-21T18:27:21.295913Z",
     "start_time": "2020-09-21T18:27:21.221014Z"
    },
    "hidden": true
   },
   "outputs": [],
   "source": [
    "# https://pandas.pydata.org/pandas-docs/stable/reference/api/pandas.Series.str.extract.html\n",
    "\n",
    "tidydf['week'] = tidydf['week'].str.extract('(\\d+)').astype(int)"
   ]
  },
  {
   "cell_type": "code",
   "execution_count": null,
   "metadata": {
    "ExecuteTime": {
     "end_time": "2020-09-21T18:27:21.646686Z",
     "start_time": "2020-09-21T18:27:21.632094Z"
    },
    "hidden": true
   },
   "outputs": [],
   "source": []
  },
  {
   "cell_type": "code",
   "execution_count": null,
   "metadata": {
    "hidden": true
   },
   "outputs": [],
   "source": []
  },
  {
   "cell_type": "code",
   "execution_count": null,
   "metadata": {
    "hidden": true
   },
   "outputs": [],
   "source": []
  },
  {
   "cell_type": "code",
   "execution_count": null,
   "metadata": {
    "hidden": true
   },
   "outputs": [],
   "source": []
  },
  {
   "cell_type": "code",
   "execution_count": null,
   "metadata": {
    "hidden": true
   },
   "outputs": [],
   "source": []
  }
 ],
 "metadata": {
  "interpreter": {
   "hash": "40d3a090f54c6569ab1632332b64b2c03c39dcf918b08424e98f38b5ae0af88f"
  },
  "kernelspec": {
   "display_name": "Python 3",
   "language": "python",
   "name": "python3"
  },
  "language_info": {
   "codemirror_mode": {
    "name": "ipython",
    "version": 3
   },
   "file_extension": ".py",
   "mimetype": "text/x-python",
   "name": "python",
   "nbconvert_exporter": "python",
   "pygments_lexer": "ipython3",
   "version": "3.8.8"
  },
  "varInspector": {
   "cols": {
    "lenName": 16,
    "lenType": 16,
    "lenVar": 40
   },
   "kernels_config": {
    "python": {
     "delete_cmd_postfix": "",
     "delete_cmd_prefix": "del ",
     "library": "var_list.py",
     "varRefreshCmd": "print(var_dic_list())"
    },
    "r": {
     "delete_cmd_postfix": ") ",
     "delete_cmd_prefix": "rm(",
     "library": "var_list.r",
     "varRefreshCmd": "cat(var_dic_list()) "
    }
   },
   "types_to_exclude": [
    "module",
    "function",
    "builtin_function_or_method",
    "instance",
    "_Feature"
   ],
   "window_display": false
  }
 },
 "nbformat": 4,
 "nbformat_minor": 4
}
